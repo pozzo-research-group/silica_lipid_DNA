{
 "cells": [
  {
   "cell_type": "code",
   "execution_count": 6,
   "id": "0aff39ea",
   "metadata": {},
   "outputs": [],
   "source": [
    "import numpy as np\n",
    "import pandas as pd\n",
    "from scipy.optimize import minimize"
   ]
  },
  {
   "cell_type": "markdown",
   "id": "4ed1052c",
   "metadata": {},
   "source": [
    "## Design of Experiment  \n",
    "This Notebook is used to calculate the amount of Silica and DOPC in the sample. The inputs are the a Silica to DOPC surface areas, and the outputs are arrays with the mass of each material to use to obtain the desired surface area. "
   ]
  },
  {
   "cell_type": "code",
   "execution_count": 7,
   "id": "c2cf25cf",
   "metadata": {},
   "outputs": [],
   "source": [
    "silica_concentration = 2 #mg/mL\n",
    "sample_volume = 10 #mL\n",
    "bilayer_silica_ratio_lst = [0.4, 0.6, 0.8, 1.0, 1.2, 1.4]"
   ]
  },
  {
   "cell_type": "code",
   "execution_count": 8,
   "id": "9a5ab727",
   "metadata": {},
   "outputs": [],
   "source": [
    "################### Material Properties ###################\n",
    "silica_molar_mass = 60.08 #g/mol\n",
    "silica_density = 2.65 #g/cm3\n",
    "silica_particle_diameter = 26 #nm\n",
    "\n",
    "DOPC_molar_mass = 785 #g/mol \n",
    "DOPC_SA_molecule = 0.6 #nm2/molecule"
   ]
  },
  {
   "cell_type": "code",
   "execution_count": 9,
   "id": "ea535f64",
   "metadata": {},
   "outputs": [],
   "source": [
    "def calculate_total_silica_NP_SA(silica_mass):\n",
    "    silica_moles = silica_mass/silica_molar_mass/1000\n",
    "    silica_atoms = silica_moles*6.02e23\n",
    "    silica_NP_volume = 4/3*(silica_particle_diameter/2)**3*np.pi #nm3\n",
    "    silica_atoms_volume = silica_mass/(silica_density*1e-18) #nm3\n",
    "    silica_NP_quantitity = silica_atoms_volume/silica_NP_volume\n",
    "    silica_NP_SA = 4*np.pi*(silica_particle_diameter/2)**2\n",
    "    total_silica_NP_SA = silica_NP_SA*silica_NP_quantitity #nm2 \n",
    "    return total_silica_NP_SA\n",
    "\n",
    "def calculate_total_DOPC_SA(DOPC_mass):\n",
    "    DOPC_moles = DOPC_mass/DOPC_molar_mass/1000\n",
    "    DOPC_molecules = DOPC_moles*6.02e23\n",
    "    total_DOPC_SA = DOPC_molecules*DOPC_SA_molecule\n",
    "    total_DOPC_SA = total_DOPC_SA/2\n",
    "    return total_DOPC_SA\n",
    "\n",
    "def DOPC_SA_to_Mass(DOPC_SA):\n",
    "    DOPC_SA = DOPC_SA*2\n",
    "    DOPC_molecules = DOPC_SA/DOPC_SA_molecule\n",
    "    DOPC_moles = DOPC_molecules/6.02e23\n",
    "    DOPC_mass = DOPC_moles*DOPC_molar_mass*1000\n",
    "    return DOPC_mass\n",
    "\n",
    "def calculate_SA(silica_mass, bilayer_silica_ratio):\n",
    "    silica_SA = calculate_total_silica_NP_SA(silica_mass)\n",
    "    DOPC_SA = silica_SA\n",
    "    DOPC_mass = DOPC_SA_to_Mass(DOPC_SA)*bilayer_silica_ratio\n",
    "    return DOPC_mass\n"
   ]
  },
  {
   "cell_type": "code",
   "execution_count": 10,
   "id": "f47f96ed",
   "metadata": {},
   "outputs": [],
   "source": [
    "silica_mass = silica_concentration*sample_volume\n",
    "DOPC_Mass_list = []\n",
    "for j in range(len(bilayer_silica_ratio_lst)):\n",
    "    bilayer_silica_ratio = bilayer_silica_ratio_lst[j]\n",
    "    DOPC_mass = calculate_SA(silica_mass, bilayer_silica_ratio)\n",
    "    DOPC_Mass_list.append(DOPC_mass)\n",
    "DOPC_mass_array = np.array(DOPC_Mass_list).reshape(-1,1)"
   ]
  },
  {
   "cell_type": "code",
   "execution_count": 11,
   "id": "e614ded3",
   "metadata": {},
   "outputs": [],
   "source": [
    "silica_mass_array = np.array([silica_mass]*len(bilayer_silica_ratio_lst)).reshape(-1,1)\n",
    "final_mass_array = np.hstack((silica_mass_array, DOPC_mass_array))"
   ]
  },
  {
   "cell_type": "markdown",
   "id": "feb0d689",
   "metadata": {},
   "source": [
    "## Mass Array\n",
    "\n",
    "This array contains the mass of silica and DOPC to create each sample"
   ]
  },
  {
   "cell_type": "code",
   "execution_count": 12,
   "id": "404b461e-3ee8-4681-a518-f731f6e2c0dc",
   "metadata": {},
   "outputs": [
    {
     "data": {
      "text/html": [
       "<div>\n",
       "<style scoped>\n",
       "    .dataframe tbody tr th:only-of-type {\n",
       "        vertical-align: middle;\n",
       "    }\n",
       "\n",
       "    .dataframe tbody tr th {\n",
       "        vertical-align: top;\n",
       "    }\n",
       "\n",
       "    .dataframe thead th {\n",
       "        text-align: right;\n",
       "    }\n",
       "</style>\n",
       "<table border=\"1\" class=\"dataframe\">\n",
       "  <thead>\n",
       "    <tr style=\"text-align: right;\">\n",
       "      <th></th>\n",
       "      <th>Silica Mass (mg)</th>\n",
       "      <th>DOPC Mass (mg)</th>\n",
       "    </tr>\n",
       "  </thead>\n",
       "  <tbody>\n",
       "    <tr>\n",
       "      <th>0</th>\n",
       "      <td>20.0</td>\n",
       "      <td>3.03</td>\n",
       "    </tr>\n",
       "    <tr>\n",
       "      <th>1</th>\n",
       "      <td>20.0</td>\n",
       "      <td>4.54</td>\n",
       "    </tr>\n",
       "    <tr>\n",
       "      <th>2</th>\n",
       "      <td>20.0</td>\n",
       "      <td>6.06</td>\n",
       "    </tr>\n",
       "    <tr>\n",
       "      <th>3</th>\n",
       "      <td>20.0</td>\n",
       "      <td>7.57</td>\n",
       "    </tr>\n",
       "    <tr>\n",
       "      <th>4</th>\n",
       "      <td>20.0</td>\n",
       "      <td>9.08</td>\n",
       "    </tr>\n",
       "    <tr>\n",
       "      <th>5</th>\n",
       "      <td>20.0</td>\n",
       "      <td>10.60</td>\n",
       "    </tr>\n",
       "  </tbody>\n",
       "</table>\n",
       "</div>"
      ],
      "text/plain": [
       "   Silica Mass (mg)  DOPC Mass (mg)\n",
       "0              20.0            3.03\n",
       "1              20.0            4.54\n",
       "2              20.0            6.06\n",
       "3              20.0            7.57\n",
       "4              20.0            9.08\n",
       "5              20.0           10.60"
      ]
     },
     "execution_count": 12,
     "metadata": {},
     "output_type": "execute_result"
    }
   ],
   "source": [
    "pd.DataFrame(np.round(final_mass_array, 2), columns = ['Silica Mass (mg)', 'DOPC Mass (mg)'])"
   ]
  },
  {
   "cell_type": "markdown",
   "id": "e5511feb",
   "metadata": {},
   "source": [
    "## Concentration Array\n",
    "\n",
    "We can convert the mass array to a concentration array in mg/mL. "
   ]
  },
  {
   "cell_type": "code",
   "execution_count": 13,
   "id": "0128aae2",
   "metadata": {},
   "outputs": [],
   "source": [
    "sample_volume = 10 #mL \n",
    "conc_array = final_mass_array/sample_volume"
   ]
  },
  {
   "cell_type": "code",
   "execution_count": 14,
   "id": "5141277b",
   "metadata": {},
   "outputs": [
    {
     "data": {
      "text/html": [
       "<div>\n",
       "<style scoped>\n",
       "    .dataframe tbody tr th:only-of-type {\n",
       "        vertical-align: middle;\n",
       "    }\n",
       "\n",
       "    .dataframe tbody tr th {\n",
       "        vertical-align: top;\n",
       "    }\n",
       "\n",
       "    .dataframe thead th {\n",
       "        text-align: right;\n",
       "    }\n",
       "</style>\n",
       "<table border=\"1\" class=\"dataframe\">\n",
       "  <thead>\n",
       "    <tr style=\"text-align: right;\">\n",
       "      <th></th>\n",
       "      <th>Silica Conc (mg/mL)</th>\n",
       "      <th>DOPC Conc (mg/mL)</th>\n",
       "    </tr>\n",
       "  </thead>\n",
       "  <tbody>\n",
       "    <tr>\n",
       "      <th>0</th>\n",
       "      <td>2.0</td>\n",
       "      <td>0.30</td>\n",
       "    </tr>\n",
       "    <tr>\n",
       "      <th>1</th>\n",
       "      <td>2.0</td>\n",
       "      <td>0.45</td>\n",
       "    </tr>\n",
       "    <tr>\n",
       "      <th>2</th>\n",
       "      <td>2.0</td>\n",
       "      <td>0.61</td>\n",
       "    </tr>\n",
       "    <tr>\n",
       "      <th>3</th>\n",
       "      <td>2.0</td>\n",
       "      <td>0.76</td>\n",
       "    </tr>\n",
       "    <tr>\n",
       "      <th>4</th>\n",
       "      <td>2.0</td>\n",
       "      <td>0.91</td>\n",
       "    </tr>\n",
       "    <tr>\n",
       "      <th>5</th>\n",
       "      <td>2.0</td>\n",
       "      <td>1.06</td>\n",
       "    </tr>\n",
       "  </tbody>\n",
       "</table>\n",
       "</div>"
      ],
      "text/plain": [
       "   Silica Conc (mg/mL)  DOPC Conc (mg/mL)\n",
       "0                  2.0               0.30\n",
       "1                  2.0               0.45\n",
       "2                  2.0               0.61\n",
       "3                  2.0               0.76\n",
       "4                  2.0               0.91\n",
       "5                  2.0               1.06"
      ]
     },
     "execution_count": 14,
     "metadata": {},
     "output_type": "execute_result"
    }
   ],
   "source": [
    "pd.DataFrame(np.round(conc_array, 2), columns = ['Silica Conc (mg/mL)', 'DOPC Conc (mg/mL)'])"
   ]
  },
  {
   "cell_type": "markdown",
   "id": "c281dcff",
   "metadata": {},
   "source": [
    "## Volume Array\n",
    "\n",
    "By knowing the concentration of the stock solutions used, we can calculate the volume of each stock solution to add to the sample. "
   ]
  },
  {
   "cell_type": "code",
   "execution_count": 15,
   "id": "6c333ea6",
   "metadata": {},
   "outputs": [],
   "source": [
    "stock_solution_silica = 60 #mg/mL\n",
    "stock_solution_DOPC = 50 #mg/mL"
   ]
  },
  {
   "cell_type": "code",
   "execution_count": 16,
   "id": "5b14e79f",
   "metadata": {},
   "outputs": [],
   "source": [
    "volume_array = final_mass_array.copy()\n",
    "volume_array[:,0] = final_mass_array[:,0]/stock_solution_silica*1000\n",
    "volume_array[:,1] = final_mass_array[:,1]/stock_solution_DOPC*1000"
   ]
  },
  {
   "cell_type": "code",
   "execution_count": 17,
   "id": "90124c1b",
   "metadata": {},
   "outputs": [
    {
     "data": {
      "text/html": [
       "<div>\n",
       "<style scoped>\n",
       "    .dataframe tbody tr th:only-of-type {\n",
       "        vertical-align: middle;\n",
       "    }\n",
       "\n",
       "    .dataframe tbody tr th {\n",
       "        vertical-align: top;\n",
       "    }\n",
       "\n",
       "    .dataframe thead th {\n",
       "        text-align: right;\n",
       "    }\n",
       "</style>\n",
       "<table border=\"1\" class=\"dataframe\">\n",
       "  <thead>\n",
       "    <tr style=\"text-align: right;\">\n",
       "      <th></th>\n",
       "      <th>Silica Stock (60 mg/mL) (uL)</th>\n",
       "      <th>DOPC Stock (50 mg/mL) (uL)</th>\n",
       "    </tr>\n",
       "  </thead>\n",
       "  <tbody>\n",
       "    <tr>\n",
       "      <th>0</th>\n",
       "      <td>333.0</td>\n",
       "      <td>61.0</td>\n",
       "    </tr>\n",
       "    <tr>\n",
       "      <th>1</th>\n",
       "      <td>333.0</td>\n",
       "      <td>91.0</td>\n",
       "    </tr>\n",
       "    <tr>\n",
       "      <th>2</th>\n",
       "      <td>333.0</td>\n",
       "      <td>121.0</td>\n",
       "    </tr>\n",
       "    <tr>\n",
       "      <th>3</th>\n",
       "      <td>333.0</td>\n",
       "      <td>151.0</td>\n",
       "    </tr>\n",
       "    <tr>\n",
       "      <th>4</th>\n",
       "      <td>333.0</td>\n",
       "      <td>182.0</td>\n",
       "    </tr>\n",
       "    <tr>\n",
       "      <th>5</th>\n",
       "      <td>333.0</td>\n",
       "      <td>212.0</td>\n",
       "    </tr>\n",
       "  </tbody>\n",
       "</table>\n",
       "</div>"
      ],
      "text/plain": [
       "   Silica Stock (60 mg/mL) (uL)  DOPC Stock (50 mg/mL) (uL)\n",
       "0                         333.0                        61.0\n",
       "1                         333.0                        91.0\n",
       "2                         333.0                       121.0\n",
       "3                         333.0                       151.0\n",
       "4                         333.0                       182.0\n",
       "5                         333.0                       212.0"
      ]
     },
     "execution_count": 17,
     "metadata": {},
     "output_type": "execute_result"
    }
   ],
   "source": [
    "volume_array_f = np.hstack((volume_array, np.array(bilayer_silica_ratio_lst).reshape(-1,1)))\n",
    "df = pd.DataFrame(np.round(np.round(volume_array, 2)), columns = ['Silica Stock (60 mg/mL) (uL)', 'DOPC Stock (50 mg/mL) (uL)'])\n",
    "df"
   ]
  },
  {
   "cell_type": "code",
   "execution_count": 42,
   "id": "0ef81a3a",
   "metadata": {},
   "outputs": [],
   "source": [
    "#df.to_excel('../../Volumes/250225/Silica_DOPC_ratio_10mL.xlsx')"
   ]
  }
 ],
 "metadata": {
  "kernelspec": {
   "display_name": "base",
   "language": "python",
   "name": "python3"
  },
  "language_info": {
   "codemirror_mode": {
    "name": "ipython",
    "version": 3
   },
   "file_extension": ".py",
   "mimetype": "text/x-python",
   "name": "python",
   "nbconvert_exporter": "python",
   "pygments_lexer": "ipython3",
   "version": "3.12.9"
  }
 },
 "nbformat": 4,
 "nbformat_minor": 5
}
